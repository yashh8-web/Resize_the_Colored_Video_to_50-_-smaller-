{
  "nbformat": 4,
  "nbformat_minor": 0,
  "metadata": {
    "colab": {
      "provenance": [],
      "authorship_tag": "ABX9TyMmoDqLrh16lHKo+UvigkoO",
      "include_colab_link": true
    },
    "kernelspec": {
      "name": "python3",
      "display_name": "Python 3"
    },
    "language_info": {
      "name": "python"
    }
  },
  "cells": [
    {
      "cell_type": "markdown",
      "metadata": {
        "id": "view-in-github",
        "colab_type": "text"
      },
      "source": [
        "<a href=\"https://colab.research.google.com/github/yashh8-web/Resize_the_Colored_Video_to_50-_-smaller-/blob/main/Untitled21.ipynb\" target=\"_parent\"><img src=\"https://colab.research.google.com/assets/colab-badge.svg\" alt=\"Open In Colab\"/></a>"
      ]
    },
    {
      "cell_type": "code",
      "execution_count": 1,
      "metadata": {
        "colab": {
          "base_uri": "https://localhost:8080/"
        },
        "id": "5f1gRVmLXFs_",
        "outputId": "75489e0c-420e-4cc8-e19b-6be8fa0400bb"
      },
      "outputs": [
        {
          "output_type": "stream",
          "name": "stdout",
          "text": [
            "Requirement already satisfied: opencv-python in /usr/local/lib/python3.11/dist-packages (4.11.0.86)\n",
            "Requirement already satisfied: numpy>=1.21.2 in /usr/local/lib/python3.11/dist-packages (from opencv-python) (2.0.2)\n"
          ]
        }
      ],
      "source": [
        "!pip install opencv-python\n",
        "import cv2\n",
        "from tqdm import tqdm\n",
        "from google.colab import files"
      ]
    },
    {
      "cell_type": "code",
      "source": [
        "!wget -O demo_video.mp4 https://filesamples.com/samples/video/mp4/sample_640x360.mp4"
      ],
      "metadata": {
        "colab": {
          "base_uri": "https://localhost:8080/"
        },
        "id": "QOnVn8ZAXSaK",
        "outputId": "c7469e21-c06a-4c5c-9805-4d2086a013cc"
      },
      "execution_count": 2,
      "outputs": [
        {
          "output_type": "stream",
          "name": "stdout",
          "text": [
            "--2025-07-06 06:14:04--  https://filesamples.com/samples/video/mp4/sample_640x360.mp4\n",
            "Resolving filesamples.com (filesamples.com)... 172.67.178.244, 104.21.17.252, 2606:4700:3035::ac43:b2f4, ...\n",
            "Connecting to filesamples.com (filesamples.com)|172.67.178.244|:443... connected.\n",
            "HTTP request sent, awaiting response... 200 OK\n",
            "Length: unspecified [video/mp4]\n",
            "Saving to: ‘demo_video.mp4’\n",
            "\n",
            "\rdemo_video.mp4          [<=>                 ]       0  --.-KB/s               \rdemo_video.mp4          [ <=>                ] 561.35K  --.-KB/s    in 0.05s   \n",
            "\n",
            "2025-07-06 06:14:04 (11.6 MB/s) - ‘demo_video.mp4’ saved [574823]\n",
            "\n"
          ]
        }
      ]
    },
    {
      "cell_type": "code",
      "source": [
        "INPUT_VIDEO = 'demo_video.mp4'"
      ],
      "metadata": {
        "id": "wyGXurLpXtxg"
      },
      "execution_count": 3,
      "outputs": []
    },
    {
      "cell_type": "code",
      "source": [
        "import cv2\n",
        "from tqdm import tqdm\n",
        "from google.colab import files\n",
        "\n",
        "# ---------- open video ------------\n",
        "cap = cv2.VideoCapture(INPUT_VIDEO)\n",
        "if not cap.isOpened():\n",
        "    raise Exception(\"⚠️  Video read nahi hua!\")\n",
        "\n",
        "# Original video info\n",
        "fps   = cap.get(cv2.CAP_PROP_FPS) or 30\n",
        "w     = int(cap.get(cv2.CAP_PROP_FRAME_WIDTH))\n",
        "h     = int(cap.get(cv2.CAP_PROP_FRAME_HEIGHT))\n",
        "total = int(cap.get(cv2.CAP_PROP_FRAME_COUNT))\n",
        "\n",
        "print(f\"Original size: {w}x{h} | FPS: {fps} | Frames: {total}\")\n",
        "\n",
        "# 50 % dimensions\n",
        "new_w, new_h = w // 2, h // 2\n",
        "\n",
        "# Output writer\n",
        "OUTPUT_VIDEO = \"resized_video.mp4\"\n",
        "fourcc = cv2.VideoWriter_fourcc(*'mp4v')       # codec\n",
        "out = cv2.VideoWriter(OUTPUT_VIDEO, fourcc, fps, (new_w, new_h))\n",
        "\n",
        "# -------- resize frame‑by‑frame ----------\n",
        "for _ in tqdm(range(total), desc=\"🔁 Resizing 50%\"):\n",
        "    ok, frame = cap.read()\n",
        "    if not ok:\n",
        "        break\n",
        "    resized = cv2.resize(frame, (new_w, new_h), interpolation=cv2.INTER_AREA)\n",
        "    out.write(resized)\n",
        "\n",
        "cap.release()\n",
        "out.release()\n",
        "print(\"✅ Done! Resized video saved as\", OUTPUT_VIDEO)"
      ],
      "metadata": {
        "colab": {
          "base_uri": "https://localhost:8080/"
        },
        "id": "ErbRCglUYl9W",
        "outputId": "15b053ff-ef7c-4ea1-8b30-e867dbd79422"
      },
      "execution_count": 5,
      "outputs": [
        {
          "output_type": "stream",
          "name": "stdout",
          "text": [
            "Original size: 640x360 | FPS: 29.97002997002997 | Frames: 400\n"
          ]
        },
        {
          "output_type": "stream",
          "name": "stderr",
          "text": [
            "🔁 Resizing 50%: 100%|██████████| 400/400 [00:00<00:00, 540.37it/s]"
          ]
        },
        {
          "output_type": "stream",
          "name": "stdout",
          "text": [
            "✅ Done! Resized video saved as resized_video.mp4\n"
          ]
        },
        {
          "output_type": "stream",
          "name": "stderr",
          "text": [
            "\n"
          ]
        }
      ]
    },
    {
      "cell_type": "code",
      "source": [
        "files.download(OUTPUT_VIDEO)"
      ],
      "metadata": {
        "colab": {
          "base_uri": "https://localhost:8080/",
          "height": 17
        },
        "id": "8kZRQp75YurS",
        "outputId": "87116c87-0ae8-44b4-b6a8-ba28688d8050"
      },
      "execution_count": 6,
      "outputs": [
        {
          "output_type": "display_data",
          "data": {
            "text/plain": [
              "<IPython.core.display.Javascript object>"
            ],
            "application/javascript": [
              "\n",
              "    async function download(id, filename, size) {\n",
              "      if (!google.colab.kernel.accessAllowed) {\n",
              "        return;\n",
              "      }\n",
              "      const div = document.createElement('div');\n",
              "      const label = document.createElement('label');\n",
              "      label.textContent = `Downloading \"${filename}\": `;\n",
              "      div.appendChild(label);\n",
              "      const progress = document.createElement('progress');\n",
              "      progress.max = size;\n",
              "      div.appendChild(progress);\n",
              "      document.body.appendChild(div);\n",
              "\n",
              "      const buffers = [];\n",
              "      let downloaded = 0;\n",
              "\n",
              "      const channel = await google.colab.kernel.comms.open(id);\n",
              "      // Send a message to notify the kernel that we're ready.\n",
              "      channel.send({})\n",
              "\n",
              "      for await (const message of channel.messages) {\n",
              "        // Send a message to notify the kernel that we're ready.\n",
              "        channel.send({})\n",
              "        if (message.buffers) {\n",
              "          for (const buffer of message.buffers) {\n",
              "            buffers.push(buffer);\n",
              "            downloaded += buffer.byteLength;\n",
              "            progress.value = downloaded;\n",
              "          }\n",
              "        }\n",
              "      }\n",
              "      const blob = new Blob(buffers, {type: 'application/binary'});\n",
              "      const a = document.createElement('a');\n",
              "      a.href = window.URL.createObjectURL(blob);\n",
              "      a.download = filename;\n",
              "      div.appendChild(a);\n",
              "      a.click();\n",
              "      div.remove();\n",
              "    }\n",
              "  "
            ]
          },
          "metadata": {}
        },
        {
          "output_type": "display_data",
          "data": {
            "text/plain": [
              "<IPython.core.display.Javascript object>"
            ],
            "application/javascript": [
              "download(\"download_56129cab-0f4c-493c-938b-a44bab122821\", \"resized_video.mp4\", 602342)"
            ]
          },
          "metadata": {}
        }
      ]
    }
  ]
}